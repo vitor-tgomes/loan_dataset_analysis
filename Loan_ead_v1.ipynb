{
 "cells": [
  {
   "cell_type": "code",
   "execution_count": 1,
   "id": "bff5e7d3",
   "metadata": {},
   "outputs": [],
   "source": [
    "import pandas as pd\n",
    "import numpy as np\n",
    "import matplotlib.pyplot as plt\n",
    "from sklearn.preprocessing import MinMaxScaler\n",
    "from scipy import stats\n",
    "from scipy.stats import chi2_contingency\n",
    "import math"
   ]
  },
  {
   "cell_type": "code",
   "execution_count": 2,
   "id": "853407fb",
   "metadata": {},
   "outputs": [],
   "source": [
    "train = pd.read_csv(\"data/loan_train.csv\", delimiter= \",\", encoding= \"utf-8\")\n",
    "test = pd.read_csv(\"data/loan_test.csv\", delimiter= \",\", encoding= \"utf-8\")"
   ]
  },
  {
   "cell_type": "code",
   "execution_count": 3,
   "id": "1b7a20b3",
   "metadata": {},
   "outputs": [
    {
     "data": {
      "text/html": [
       "<div>\n",
       "<style scoped>\n",
       "    .dataframe tbody tr th:only-of-type {\n",
       "        vertical-align: middle;\n",
       "    }\n",
       "\n",
       "    .dataframe tbody tr th {\n",
       "        vertical-align: top;\n",
       "    }\n",
       "\n",
       "    .dataframe thead th {\n",
       "        text-align: right;\n",
       "    }\n",
       "</style>\n",
       "<table border=\"1\" class=\"dataframe\">\n",
       "  <thead>\n",
       "    <tr style=\"text-align: right;\">\n",
       "      <th></th>\n",
       "      <th>Gender</th>\n",
       "      <th>Married</th>\n",
       "      <th>Dependents</th>\n",
       "      <th>Education</th>\n",
       "      <th>Self_Employed</th>\n",
       "      <th>Applicant_Income</th>\n",
       "      <th>Coapplicant_Income</th>\n",
       "      <th>Loan_Amount</th>\n",
       "      <th>Term</th>\n",
       "      <th>Credit_History</th>\n",
       "      <th>Area</th>\n",
       "      <th>Status</th>\n",
       "    </tr>\n",
       "  </thead>\n",
       "  <tbody>\n",
       "    <tr>\n",
       "      <th>0</th>\n",
       "      <td>Male</td>\n",
       "      <td>No</td>\n",
       "      <td>0</td>\n",
       "      <td>Graduate</td>\n",
       "      <td>No</td>\n",
       "      <td>584900</td>\n",
       "      <td>0.0</td>\n",
       "      <td>15000000</td>\n",
       "      <td>360.0</td>\n",
       "      <td>1.0</td>\n",
       "      <td>Urban</td>\n",
       "      <td>Y</td>\n",
       "    </tr>\n",
       "    <tr>\n",
       "      <th>1</th>\n",
       "      <td>Male</td>\n",
       "      <td>Yes</td>\n",
       "      <td>1</td>\n",
       "      <td>Graduate</td>\n",
       "      <td>No</td>\n",
       "      <td>458300</td>\n",
       "      <td>150800.0</td>\n",
       "      <td>12800000</td>\n",
       "      <td>360.0</td>\n",
       "      <td>1.0</td>\n",
       "      <td>Rural</td>\n",
       "      <td>N</td>\n",
       "    </tr>\n",
       "    <tr>\n",
       "      <th>2</th>\n",
       "      <td>Male</td>\n",
       "      <td>Yes</td>\n",
       "      <td>0</td>\n",
       "      <td>Graduate</td>\n",
       "      <td>Yes</td>\n",
       "      <td>300000</td>\n",
       "      <td>0.0</td>\n",
       "      <td>6600000</td>\n",
       "      <td>360.0</td>\n",
       "      <td>1.0</td>\n",
       "      <td>Urban</td>\n",
       "      <td>Y</td>\n",
       "    </tr>\n",
       "    <tr>\n",
       "      <th>3</th>\n",
       "      <td>Male</td>\n",
       "      <td>Yes</td>\n",
       "      <td>0</td>\n",
       "      <td>Not Graduate</td>\n",
       "      <td>No</td>\n",
       "      <td>258300</td>\n",
       "      <td>235800.0</td>\n",
       "      <td>12000000</td>\n",
       "      <td>360.0</td>\n",
       "      <td>1.0</td>\n",
       "      <td>Urban</td>\n",
       "      <td>Y</td>\n",
       "    </tr>\n",
       "    <tr>\n",
       "      <th>4</th>\n",
       "      <td>Male</td>\n",
       "      <td>No</td>\n",
       "      <td>0</td>\n",
       "      <td>Graduate</td>\n",
       "      <td>No</td>\n",
       "      <td>600000</td>\n",
       "      <td>0.0</td>\n",
       "      <td>14100000</td>\n",
       "      <td>360.0</td>\n",
       "      <td>1.0</td>\n",
       "      <td>Urban</td>\n",
       "      <td>Y</td>\n",
       "    </tr>\n",
       "    <tr>\n",
       "      <th>...</th>\n",
       "      <td>...</td>\n",
       "      <td>...</td>\n",
       "      <td>...</td>\n",
       "      <td>...</td>\n",
       "      <td>...</td>\n",
       "      <td>...</td>\n",
       "      <td>...</td>\n",
       "      <td>...</td>\n",
       "      <td>...</td>\n",
       "      <td>...</td>\n",
       "      <td>...</td>\n",
       "      <td>...</td>\n",
       "    </tr>\n",
       "    <tr>\n",
       "      <th>609</th>\n",
       "      <td>Female</td>\n",
       "      <td>No</td>\n",
       "      <td>0</td>\n",
       "      <td>Graduate</td>\n",
       "      <td>No</td>\n",
       "      <td>290000</td>\n",
       "      <td>0.0</td>\n",
       "      <td>7100000</td>\n",
       "      <td>360.0</td>\n",
       "      <td>1.0</td>\n",
       "      <td>Rural</td>\n",
       "      <td>Y</td>\n",
       "    </tr>\n",
       "    <tr>\n",
       "      <th>610</th>\n",
       "      <td>Male</td>\n",
       "      <td>Yes</td>\n",
       "      <td>3+</td>\n",
       "      <td>Graduate</td>\n",
       "      <td>No</td>\n",
       "      <td>410600</td>\n",
       "      <td>0.0</td>\n",
       "      <td>4000000</td>\n",
       "      <td>180.0</td>\n",
       "      <td>1.0</td>\n",
       "      <td>Rural</td>\n",
       "      <td>Y</td>\n",
       "    </tr>\n",
       "    <tr>\n",
       "      <th>611</th>\n",
       "      <td>Male</td>\n",
       "      <td>Yes</td>\n",
       "      <td>1</td>\n",
       "      <td>Graduate</td>\n",
       "      <td>No</td>\n",
       "      <td>807200</td>\n",
       "      <td>24000.0</td>\n",
       "      <td>25300000</td>\n",
       "      <td>360.0</td>\n",
       "      <td>1.0</td>\n",
       "      <td>Urban</td>\n",
       "      <td>Y</td>\n",
       "    </tr>\n",
       "    <tr>\n",
       "      <th>612</th>\n",
       "      <td>Male</td>\n",
       "      <td>Yes</td>\n",
       "      <td>2</td>\n",
       "      <td>Graduate</td>\n",
       "      <td>No</td>\n",
       "      <td>758300</td>\n",
       "      <td>0.0</td>\n",
       "      <td>18700000</td>\n",
       "      <td>360.0</td>\n",
       "      <td>1.0</td>\n",
       "      <td>Urban</td>\n",
       "      <td>Y</td>\n",
       "    </tr>\n",
       "    <tr>\n",
       "      <th>613</th>\n",
       "      <td>Female</td>\n",
       "      <td>No</td>\n",
       "      <td>0</td>\n",
       "      <td>Graduate</td>\n",
       "      <td>Yes</td>\n",
       "      <td>458300</td>\n",
       "      <td>0.0</td>\n",
       "      <td>13300000</td>\n",
       "      <td>360.0</td>\n",
       "      <td>0.0</td>\n",
       "      <td>Semiurban</td>\n",
       "      <td>N</td>\n",
       "    </tr>\n",
       "  </tbody>\n",
       "</table>\n",
       "<p>614 rows × 12 columns</p>\n",
       "</div>"
      ],
      "text/plain": [
       "     Gender Married Dependents     Education Self_Employed  Applicant_Income  \\\n",
       "0      Male      No          0      Graduate            No            584900   \n",
       "1      Male     Yes          1      Graduate            No            458300   \n",
       "2      Male     Yes          0      Graduate           Yes            300000   \n",
       "3      Male     Yes          0  Not Graduate            No            258300   \n",
       "4      Male      No          0      Graduate            No            600000   \n",
       "..      ...     ...        ...           ...           ...               ...   \n",
       "609  Female      No          0      Graduate            No            290000   \n",
       "610    Male     Yes         3+      Graduate            No            410600   \n",
       "611    Male     Yes          1      Graduate            No            807200   \n",
       "612    Male     Yes          2      Graduate            No            758300   \n",
       "613  Female      No          0      Graduate           Yes            458300   \n",
       "\n",
       "     Coapplicant_Income  Loan_Amount   Term  Credit_History       Area Status  \n",
       "0                   0.0     15000000  360.0             1.0      Urban      Y  \n",
       "1              150800.0     12800000  360.0             1.0      Rural      N  \n",
       "2                   0.0      6600000  360.0             1.0      Urban      Y  \n",
       "3              235800.0     12000000  360.0             1.0      Urban      Y  \n",
       "4                   0.0     14100000  360.0             1.0      Urban      Y  \n",
       "..                  ...          ...    ...             ...        ...    ...  \n",
       "609                 0.0      7100000  360.0             1.0      Rural      Y  \n",
       "610                 0.0      4000000  180.0             1.0      Rural      Y  \n",
       "611             24000.0     25300000  360.0             1.0      Urban      Y  \n",
       "612                 0.0     18700000  360.0             1.0      Urban      Y  \n",
       "613                 0.0     13300000  360.0             0.0  Semiurban      N  \n",
       "\n",
       "[614 rows x 12 columns]"
      ]
     },
     "execution_count": 3,
     "metadata": {},
     "output_type": "execute_result"
    }
   ],
   "source": [
    "train"
   ]
  },
  {
   "cell_type": "code",
   "execution_count": 4,
   "id": "d3864971",
   "metadata": {},
   "outputs": [
    {
     "data": {
      "text/html": [
       "<div>\n",
       "<style scoped>\n",
       "    .dataframe tbody tr th:only-of-type {\n",
       "        vertical-align: middle;\n",
       "    }\n",
       "\n",
       "    .dataframe tbody tr th {\n",
       "        vertical-align: top;\n",
       "    }\n",
       "\n",
       "    .dataframe thead th {\n",
       "        text-align: right;\n",
       "    }\n",
       "</style>\n",
       "<table border=\"1\" class=\"dataframe\">\n",
       "  <thead>\n",
       "    <tr style=\"text-align: right;\">\n",
       "      <th></th>\n",
       "      <th>Gender</th>\n",
       "      <th>Married</th>\n",
       "      <th>Dependents</th>\n",
       "      <th>Education</th>\n",
       "      <th>Self_Employed</th>\n",
       "      <th>Applicant_Income</th>\n",
       "      <th>Coapplicant_Income</th>\n",
       "      <th>Loan_Amount</th>\n",
       "      <th>Term</th>\n",
       "      <th>Credit_History</th>\n",
       "      <th>Area</th>\n",
       "    </tr>\n",
       "  </thead>\n",
       "  <tbody>\n",
       "    <tr>\n",
       "      <th>0</th>\n",
       "      <td>Male</td>\n",
       "      <td>Yes</td>\n",
       "      <td>0</td>\n",
       "      <td>Graduate</td>\n",
       "      <td>No</td>\n",
       "      <td>572000</td>\n",
       "      <td>0</td>\n",
       "      <td>11000000</td>\n",
       "      <td>360.0</td>\n",
       "      <td>1.0</td>\n",
       "      <td>Urban</td>\n",
       "    </tr>\n",
       "    <tr>\n",
       "      <th>1</th>\n",
       "      <td>Male</td>\n",
       "      <td>Yes</td>\n",
       "      <td>1</td>\n",
       "      <td>Graduate</td>\n",
       "      <td>No</td>\n",
       "      <td>307600</td>\n",
       "      <td>150000</td>\n",
       "      <td>12600000</td>\n",
       "      <td>360.0</td>\n",
       "      <td>1.0</td>\n",
       "      <td>Urban</td>\n",
       "    </tr>\n",
       "    <tr>\n",
       "      <th>2</th>\n",
       "      <td>Male</td>\n",
       "      <td>Yes</td>\n",
       "      <td>2</td>\n",
       "      <td>Graduate</td>\n",
       "      <td>No</td>\n",
       "      <td>500000</td>\n",
       "      <td>180000</td>\n",
       "      <td>20800000</td>\n",
       "      <td>360.0</td>\n",
       "      <td>1.0</td>\n",
       "      <td>Urban</td>\n",
       "    </tr>\n",
       "    <tr>\n",
       "      <th>3</th>\n",
       "      <td>Male</td>\n",
       "      <td>Yes</td>\n",
       "      <td>2</td>\n",
       "      <td>Graduate</td>\n",
       "      <td>No</td>\n",
       "      <td>234000</td>\n",
       "      <td>254600</td>\n",
       "      <td>10000000</td>\n",
       "      <td>360.0</td>\n",
       "      <td>NaN</td>\n",
       "      <td>Urban</td>\n",
       "    </tr>\n",
       "    <tr>\n",
       "      <th>4</th>\n",
       "      <td>Male</td>\n",
       "      <td>No</td>\n",
       "      <td>0</td>\n",
       "      <td>Not Graduate</td>\n",
       "      <td>No</td>\n",
       "      <td>327600</td>\n",
       "      <td>0</td>\n",
       "      <td>7800000</td>\n",
       "      <td>360.0</td>\n",
       "      <td>1.0</td>\n",
       "      <td>Urban</td>\n",
       "    </tr>\n",
       "    <tr>\n",
       "      <th>...</th>\n",
       "      <td>...</td>\n",
       "      <td>...</td>\n",
       "      <td>...</td>\n",
       "      <td>...</td>\n",
       "      <td>...</td>\n",
       "      <td>...</td>\n",
       "      <td>...</td>\n",
       "      <td>...</td>\n",
       "      <td>...</td>\n",
       "      <td>...</td>\n",
       "      <td>...</td>\n",
       "    </tr>\n",
       "    <tr>\n",
       "      <th>362</th>\n",
       "      <td>Male</td>\n",
       "      <td>Yes</td>\n",
       "      <td>3+</td>\n",
       "      <td>Not Graduate</td>\n",
       "      <td>Yes</td>\n",
       "      <td>400900</td>\n",
       "      <td>177700</td>\n",
       "      <td>11300000</td>\n",
       "      <td>360.0</td>\n",
       "      <td>1.0</td>\n",
       "      <td>Urban</td>\n",
       "    </tr>\n",
       "    <tr>\n",
       "      <th>363</th>\n",
       "      <td>Male</td>\n",
       "      <td>Yes</td>\n",
       "      <td>0</td>\n",
       "      <td>Graduate</td>\n",
       "      <td>No</td>\n",
       "      <td>415800</td>\n",
       "      <td>70900</td>\n",
       "      <td>11500000</td>\n",
       "      <td>360.0</td>\n",
       "      <td>1.0</td>\n",
       "      <td>Urban</td>\n",
       "    </tr>\n",
       "    <tr>\n",
       "      <th>364</th>\n",
       "      <td>Male</td>\n",
       "      <td>No</td>\n",
       "      <td>0</td>\n",
       "      <td>Graduate</td>\n",
       "      <td>No</td>\n",
       "      <td>325000</td>\n",
       "      <td>199300</td>\n",
       "      <td>12600000</td>\n",
       "      <td>360.0</td>\n",
       "      <td>NaN</td>\n",
       "      <td>Semiurban</td>\n",
       "    </tr>\n",
       "    <tr>\n",
       "      <th>365</th>\n",
       "      <td>Male</td>\n",
       "      <td>Yes</td>\n",
       "      <td>0</td>\n",
       "      <td>Graduate</td>\n",
       "      <td>No</td>\n",
       "      <td>500000</td>\n",
       "      <td>239300</td>\n",
       "      <td>15800000</td>\n",
       "      <td>360.0</td>\n",
       "      <td>1.0</td>\n",
       "      <td>Rural</td>\n",
       "    </tr>\n",
       "    <tr>\n",
       "      <th>366</th>\n",
       "      <td>Male</td>\n",
       "      <td>No</td>\n",
       "      <td>0</td>\n",
       "      <td>Graduate</td>\n",
       "      <td>Yes</td>\n",
       "      <td>920000</td>\n",
       "      <td>0</td>\n",
       "      <td>9800000</td>\n",
       "      <td>180.0</td>\n",
       "      <td>1.0</td>\n",
       "      <td>Rural</td>\n",
       "    </tr>\n",
       "  </tbody>\n",
       "</table>\n",
       "<p>367 rows × 11 columns</p>\n",
       "</div>"
      ],
      "text/plain": [
       "    Gender Married Dependents     Education Self_Employed  Applicant_Income  \\\n",
       "0     Male     Yes          0      Graduate            No            572000   \n",
       "1     Male     Yes          1      Graduate            No            307600   \n",
       "2     Male     Yes          2      Graduate            No            500000   \n",
       "3     Male     Yes          2      Graduate            No            234000   \n",
       "4     Male      No          0  Not Graduate            No            327600   \n",
       "..     ...     ...        ...           ...           ...               ...   \n",
       "362   Male     Yes         3+  Not Graduate           Yes            400900   \n",
       "363   Male     Yes          0      Graduate            No            415800   \n",
       "364   Male      No          0      Graduate            No            325000   \n",
       "365   Male     Yes          0      Graduate            No            500000   \n",
       "366   Male      No          0      Graduate           Yes            920000   \n",
       "\n",
       "     Coapplicant_Income  Loan_Amount   Term  Credit_History       Area  \n",
       "0                     0     11000000  360.0             1.0      Urban  \n",
       "1                150000     12600000  360.0             1.0      Urban  \n",
       "2                180000     20800000  360.0             1.0      Urban  \n",
       "3                254600     10000000  360.0             NaN      Urban  \n",
       "4                     0      7800000  360.0             1.0      Urban  \n",
       "..                  ...          ...    ...             ...        ...  \n",
       "362              177700     11300000  360.0             1.0      Urban  \n",
       "363               70900     11500000  360.0             1.0      Urban  \n",
       "364              199300     12600000  360.0             NaN  Semiurban  \n",
       "365              239300     15800000  360.0             1.0      Rural  \n",
       "366                   0      9800000  180.0             1.0      Rural  \n",
       "\n",
       "[367 rows x 11 columns]"
      ]
     },
     "execution_count": 4,
     "metadata": {},
     "output_type": "execute_result"
    }
   ],
   "source": [
    "test"
   ]
  },
  {
   "cell_type": "markdown",
   "id": "e7f7a3a3",
   "metadata": {},
   "source": [
    "# Pré Tratamento Dados"
   ]
  },
  {
   "cell_type": "code",
   "execution_count": 5,
   "id": "1c4046fd",
   "metadata": {},
   "outputs": [
    {
     "name": "stdout",
     "output_type": "stream",
     "text": [
      "['0' '1' '2' '3+' nan]\n"
     ]
    }
   ],
   "source": [
    "print(train['Dependents'].unique())"
   ]
  },
  {
   "cell_type": "code",
   "execution_count": 6,
   "id": "235095d3",
   "metadata": {},
   "outputs": [],
   "source": [
    "scaler = MinMaxScaler()\n",
    "\n",
    "def transform_data (df) : \n",
    "    \n",
    "    df_aux = df.copy()\n",
    "    \n",
    "    df_aux['Married'] = np.where(df_aux['Married'] == 'Yes', 1,\n",
    "        np.where(df_aux['Married'] == 'No', 0, -1)\n",
    "    )\n",
    "    \n",
    "    df_aux['Male'] = np.where(df_aux['Gender'] == 'Male', 1,\n",
    "        np.where(df_aux['Gender'] == 'Female', 0, -1)\n",
    "    )\n",
    "    \n",
    "    df_aux['Graduate'] = np.where(df_aux['Education'] == 'Graduate', 1, 0)\n",
    "    \n",
    "    df_aux['Self_Employed'] = np.where(df_aux['Self_Employed'] == 'Yes', 1,\n",
    "        np.where(df_aux['Self_Employed'] == 'No', 0, -1)\n",
    "    )\n",
    "    \n",
    "    df_aux['Dependents'] = np.where(df_aux['Dependents'] == '3+', 3, df_aux['Dependents'])\n",
    "    df_aux['Dependents'] = pd.to_numeric(df_aux['Dependents'], errors='coerce')\n",
    "    \n",
    "    df_aux['Term_360'] = np.where(df_aux['Term'] == 360, 1, 0)\n",
    "\n",
    "    df_aux = df_aux.drop(['Gender', 'Education', 'Term'], axis=1)\n",
    "    \n",
    "    #df_aux[['Applicant_Income', 'Coapplicant_Income', 'Loan_Amount', 'Term']] = scaler.fit_transform(df_aux[['Applicant_Income', 'Coapplicant_Income', 'Loan_Amount', 'Term']])\n",
    "    \n",
    "    return df_aux"
   ]
  },
  {
   "cell_type": "code",
   "execution_count": 7,
   "id": "8728ebf6",
   "metadata": {},
   "outputs": [],
   "source": [
    "train_trat_v1 = transform_data(train)\n",
    "train_trat_v1['Status'] = np.where(train_trat_v1['Status'] == 'Y', 0, 1)\n",
    "\n",
    "test_trat_v1 = transform_data(test)"
   ]
  },
  {
   "cell_type": "code",
   "execution_count": 8,
   "id": "5e04ca78",
   "metadata": {},
   "outputs": [
    {
     "data": {
      "text/html": [
       "<div>\n",
       "<style scoped>\n",
       "    .dataframe tbody tr th:only-of-type {\n",
       "        vertical-align: middle;\n",
       "    }\n",
       "\n",
       "    .dataframe tbody tr th {\n",
       "        vertical-align: top;\n",
       "    }\n",
       "\n",
       "    .dataframe thead th {\n",
       "        text-align: right;\n",
       "    }\n",
       "</style>\n",
       "<table border=\"1\" class=\"dataframe\">\n",
       "  <thead>\n",
       "    <tr style=\"text-align: right;\">\n",
       "      <th></th>\n",
       "      <th>Married</th>\n",
       "      <th>Dependents</th>\n",
       "      <th>Self_Employed</th>\n",
       "      <th>Applicant_Income</th>\n",
       "      <th>Coapplicant_Income</th>\n",
       "      <th>Loan_Amount</th>\n",
       "      <th>Credit_History</th>\n",
       "      <th>Area</th>\n",
       "      <th>Status</th>\n",
       "      <th>Male</th>\n",
       "      <th>Graduate</th>\n",
       "      <th>Term_360</th>\n",
       "    </tr>\n",
       "  </thead>\n",
       "  <tbody>\n",
       "    <tr>\n",
       "      <th>0</th>\n",
       "      <td>0</td>\n",
       "      <td>0.0</td>\n",
       "      <td>0</td>\n",
       "      <td>584900</td>\n",
       "      <td>0.0</td>\n",
       "      <td>15000000</td>\n",
       "      <td>1.0</td>\n",
       "      <td>Urban</td>\n",
       "      <td>0</td>\n",
       "      <td>1</td>\n",
       "      <td>1</td>\n",
       "      <td>1</td>\n",
       "    </tr>\n",
       "    <tr>\n",
       "      <th>1</th>\n",
       "      <td>1</td>\n",
       "      <td>1.0</td>\n",
       "      <td>0</td>\n",
       "      <td>458300</td>\n",
       "      <td>150800.0</td>\n",
       "      <td>12800000</td>\n",
       "      <td>1.0</td>\n",
       "      <td>Rural</td>\n",
       "      <td>1</td>\n",
       "      <td>1</td>\n",
       "      <td>1</td>\n",
       "      <td>1</td>\n",
       "    </tr>\n",
       "    <tr>\n",
       "      <th>2</th>\n",
       "      <td>1</td>\n",
       "      <td>0.0</td>\n",
       "      <td>1</td>\n",
       "      <td>300000</td>\n",
       "      <td>0.0</td>\n",
       "      <td>6600000</td>\n",
       "      <td>1.0</td>\n",
       "      <td>Urban</td>\n",
       "      <td>0</td>\n",
       "      <td>1</td>\n",
       "      <td>1</td>\n",
       "      <td>1</td>\n",
       "    </tr>\n",
       "    <tr>\n",
       "      <th>3</th>\n",
       "      <td>1</td>\n",
       "      <td>0.0</td>\n",
       "      <td>0</td>\n",
       "      <td>258300</td>\n",
       "      <td>235800.0</td>\n",
       "      <td>12000000</td>\n",
       "      <td>1.0</td>\n",
       "      <td>Urban</td>\n",
       "      <td>0</td>\n",
       "      <td>1</td>\n",
       "      <td>0</td>\n",
       "      <td>1</td>\n",
       "    </tr>\n",
       "    <tr>\n",
       "      <th>4</th>\n",
       "      <td>0</td>\n",
       "      <td>0.0</td>\n",
       "      <td>0</td>\n",
       "      <td>600000</td>\n",
       "      <td>0.0</td>\n",
       "      <td>14100000</td>\n",
       "      <td>1.0</td>\n",
       "      <td>Urban</td>\n",
       "      <td>0</td>\n",
       "      <td>1</td>\n",
       "      <td>1</td>\n",
       "      <td>1</td>\n",
       "    </tr>\n",
       "    <tr>\n",
       "      <th>...</th>\n",
       "      <td>...</td>\n",
       "      <td>...</td>\n",
       "      <td>...</td>\n",
       "      <td>...</td>\n",
       "      <td>...</td>\n",
       "      <td>...</td>\n",
       "      <td>...</td>\n",
       "      <td>...</td>\n",
       "      <td>...</td>\n",
       "      <td>...</td>\n",
       "      <td>...</td>\n",
       "      <td>...</td>\n",
       "    </tr>\n",
       "    <tr>\n",
       "      <th>609</th>\n",
       "      <td>0</td>\n",
       "      <td>0.0</td>\n",
       "      <td>0</td>\n",
       "      <td>290000</td>\n",
       "      <td>0.0</td>\n",
       "      <td>7100000</td>\n",
       "      <td>1.0</td>\n",
       "      <td>Rural</td>\n",
       "      <td>0</td>\n",
       "      <td>0</td>\n",
       "      <td>1</td>\n",
       "      <td>1</td>\n",
       "    </tr>\n",
       "    <tr>\n",
       "      <th>610</th>\n",
       "      <td>1</td>\n",
       "      <td>3.0</td>\n",
       "      <td>0</td>\n",
       "      <td>410600</td>\n",
       "      <td>0.0</td>\n",
       "      <td>4000000</td>\n",
       "      <td>1.0</td>\n",
       "      <td>Rural</td>\n",
       "      <td>0</td>\n",
       "      <td>1</td>\n",
       "      <td>1</td>\n",
       "      <td>0</td>\n",
       "    </tr>\n",
       "    <tr>\n",
       "      <th>611</th>\n",
       "      <td>1</td>\n",
       "      <td>1.0</td>\n",
       "      <td>0</td>\n",
       "      <td>807200</td>\n",
       "      <td>24000.0</td>\n",
       "      <td>25300000</td>\n",
       "      <td>1.0</td>\n",
       "      <td>Urban</td>\n",
       "      <td>0</td>\n",
       "      <td>1</td>\n",
       "      <td>1</td>\n",
       "      <td>1</td>\n",
       "    </tr>\n",
       "    <tr>\n",
       "      <th>612</th>\n",
       "      <td>1</td>\n",
       "      <td>2.0</td>\n",
       "      <td>0</td>\n",
       "      <td>758300</td>\n",
       "      <td>0.0</td>\n",
       "      <td>18700000</td>\n",
       "      <td>1.0</td>\n",
       "      <td>Urban</td>\n",
       "      <td>0</td>\n",
       "      <td>1</td>\n",
       "      <td>1</td>\n",
       "      <td>1</td>\n",
       "    </tr>\n",
       "    <tr>\n",
       "      <th>613</th>\n",
       "      <td>0</td>\n",
       "      <td>0.0</td>\n",
       "      <td>1</td>\n",
       "      <td>458300</td>\n",
       "      <td>0.0</td>\n",
       "      <td>13300000</td>\n",
       "      <td>0.0</td>\n",
       "      <td>Semiurban</td>\n",
       "      <td>1</td>\n",
       "      <td>0</td>\n",
       "      <td>1</td>\n",
       "      <td>1</td>\n",
       "    </tr>\n",
       "  </tbody>\n",
       "</table>\n",
       "<p>614 rows × 12 columns</p>\n",
       "</div>"
      ],
      "text/plain": [
       "     Married  Dependents  Self_Employed  Applicant_Income  Coapplicant_Income  \\\n",
       "0          0         0.0              0            584900                 0.0   \n",
       "1          1         1.0              0            458300            150800.0   \n",
       "2          1         0.0              1            300000                 0.0   \n",
       "3          1         0.0              0            258300            235800.0   \n",
       "4          0         0.0              0            600000                 0.0   \n",
       "..       ...         ...            ...               ...                 ...   \n",
       "609        0         0.0              0            290000                 0.0   \n",
       "610        1         3.0              0            410600                 0.0   \n",
       "611        1         1.0              0            807200             24000.0   \n",
       "612        1         2.0              0            758300                 0.0   \n",
       "613        0         0.0              1            458300                 0.0   \n",
       "\n",
       "     Loan_Amount  Credit_History       Area  Status  Male  Graduate  Term_360  \n",
       "0       15000000             1.0      Urban       0     1         1         1  \n",
       "1       12800000             1.0      Rural       1     1         1         1  \n",
       "2        6600000             1.0      Urban       0     1         1         1  \n",
       "3       12000000             1.0      Urban       0     1         0         1  \n",
       "4       14100000             1.0      Urban       0     1         1         1  \n",
       "..           ...             ...        ...     ...   ...       ...       ...  \n",
       "609      7100000             1.0      Rural       0     0         1         1  \n",
       "610      4000000             1.0      Rural       0     1         1         0  \n",
       "611     25300000             1.0      Urban       0     1         1         1  \n",
       "612     18700000             1.0      Urban       0     1         1         1  \n",
       "613     13300000             0.0  Semiurban       1     0         1         1  \n",
       "\n",
       "[614 rows x 12 columns]"
      ]
     },
     "execution_count": 8,
     "metadata": {},
     "output_type": "execute_result"
    }
   ],
   "source": [
    "train_trat_v1"
   ]
  },
  {
   "cell_type": "markdown",
   "id": "de1bf1fb",
   "metadata": {},
   "source": [
    "# AED"
   ]
  },
  {
   "cell_type": "code",
   "execution_count": 9,
   "id": "aa25ca36",
   "metadata": {},
   "outputs": [
    {
     "name": "stdout",
     "output_type": "stream",
     "text": [
      "<class 'pandas.core.frame.DataFrame'>\n",
      "RangeIndex: 614 entries, 0 to 613\n",
      "Data columns (total 12 columns):\n",
      " #   Column              Non-Null Count  Dtype  \n",
      "---  ------              --------------  -----  \n",
      " 0   Married             614 non-null    int32  \n",
      " 1   Dependents          599 non-null    float64\n",
      " 2   Self_Employed       614 non-null    int32  \n",
      " 3   Applicant_Income    614 non-null    int64  \n",
      " 4   Coapplicant_Income  614 non-null    float64\n",
      " 5   Loan_Amount         614 non-null    int64  \n",
      " 6   Credit_History      564 non-null    float64\n",
      " 7   Area                614 non-null    object \n",
      " 8   Status              614 non-null    int32  \n",
      " 9   Male                614 non-null    int32  \n",
      " 10  Graduate            614 non-null    int32  \n",
      " 11  Term_360            614 non-null    int32  \n",
      "dtypes: float64(3), int32(6), int64(2), object(1)\n",
      "memory usage: 43.3+ KB\n"
     ]
    }
   ],
   "source": [
    "train_trat_v1.info()"
   ]
  },
  {
   "cell_type": "code",
   "execution_count": 10,
   "id": "a3b08969",
   "metadata": {},
   "outputs": [
    {
     "data": {
      "text/html": [
       "<div>\n",
       "<style scoped>\n",
       "    .dataframe tbody tr th:only-of-type {\n",
       "        vertical-align: middle;\n",
       "    }\n",
       "\n",
       "    .dataframe tbody tr th {\n",
       "        vertical-align: top;\n",
       "    }\n",
       "\n",
       "    .dataframe thead th {\n",
       "        text-align: right;\n",
       "    }\n",
       "</style>\n",
       "<table border=\"1\" class=\"dataframe\">\n",
       "  <thead>\n",
       "    <tr style=\"text-align: right;\">\n",
       "      <th></th>\n",
       "      <th>Married</th>\n",
       "      <th>Dependents</th>\n",
       "      <th>Self_Employed</th>\n",
       "      <th>Applicant_Income</th>\n",
       "      <th>Coapplicant_Income</th>\n",
       "      <th>Loan_Amount</th>\n",
       "      <th>Credit_History</th>\n",
       "      <th>Status</th>\n",
       "      <th>Male</th>\n",
       "      <th>Graduate</th>\n",
       "      <th>Term_360</th>\n",
       "    </tr>\n",
       "  </thead>\n",
       "  <tbody>\n",
       "    <tr>\n",
       "      <th>count</th>\n",
       "      <td>614.000000</td>\n",
       "      <td>599.000000</td>\n",
       "      <td>614.000000</td>\n",
       "      <td>6.140000e+02</td>\n",
       "      <td>6.140000e+02</td>\n",
       "      <td>6.140000e+02</td>\n",
       "      <td>564.000000</td>\n",
       "      <td>614.000000</td>\n",
       "      <td>614.000000</td>\n",
       "      <td>614.000000</td>\n",
       "      <td>614.000000</td>\n",
       "    </tr>\n",
       "    <tr>\n",
       "      <th>mean</th>\n",
       "      <td>0.643322</td>\n",
       "      <td>0.762938</td>\n",
       "      <td>0.081433</td>\n",
       "      <td>5.403459e+05</td>\n",
       "      <td>1.621246e+05</td>\n",
       "      <td>1.414104e+07</td>\n",
       "      <td>0.842199</td>\n",
       "      <td>0.312704</td>\n",
       "      <td>0.775244</td>\n",
       "      <td>0.781759</td>\n",
       "      <td>0.833876</td>\n",
       "    </tr>\n",
       "    <tr>\n",
       "      <th>std</th>\n",
       "      <td>0.489511</td>\n",
       "      <td>1.015216</td>\n",
       "      <td>0.423472</td>\n",
       "      <td>6.109042e+05</td>\n",
       "      <td>2.926248e+05</td>\n",
       "      <td>8.815682e+06</td>\n",
       "      <td>0.364878</td>\n",
       "      <td>0.463973</td>\n",
       "      <td>0.465767</td>\n",
       "      <td>0.413389</td>\n",
       "      <td>0.372495</td>\n",
       "    </tr>\n",
       "    <tr>\n",
       "      <th>min</th>\n",
       "      <td>-1.000000</td>\n",
       "      <td>0.000000</td>\n",
       "      <td>-1.000000</td>\n",
       "      <td>1.500000e+04</td>\n",
       "      <td>0.000000e+00</td>\n",
       "      <td>0.000000e+00</td>\n",
       "      <td>0.000000</td>\n",
       "      <td>0.000000</td>\n",
       "      <td>-1.000000</td>\n",
       "      <td>0.000000</td>\n",
       "      <td>0.000000</td>\n",
       "    </tr>\n",
       "    <tr>\n",
       "      <th>25%</th>\n",
       "      <td>0.000000</td>\n",
       "      <td>0.000000</td>\n",
       "      <td>0.000000</td>\n",
       "      <td>2.877500e+05</td>\n",
       "      <td>0.000000e+00</td>\n",
       "      <td>9.800000e+06</td>\n",
       "      <td>1.000000</td>\n",
       "      <td>0.000000</td>\n",
       "      <td>1.000000</td>\n",
       "      <td>1.000000</td>\n",
       "      <td>1.000000</td>\n",
       "    </tr>\n",
       "    <tr>\n",
       "      <th>50%</th>\n",
       "      <td>1.000000</td>\n",
       "      <td>0.000000</td>\n",
       "      <td>0.000000</td>\n",
       "      <td>3.812500e+05</td>\n",
       "      <td>1.188500e+05</td>\n",
       "      <td>1.250000e+07</td>\n",
       "      <td>1.000000</td>\n",
       "      <td>0.000000</td>\n",
       "      <td>1.000000</td>\n",
       "      <td>1.000000</td>\n",
       "      <td>1.000000</td>\n",
       "    </tr>\n",
       "    <tr>\n",
       "      <th>75%</th>\n",
       "      <td>1.000000</td>\n",
       "      <td>2.000000</td>\n",
       "      <td>0.000000</td>\n",
       "      <td>5.795000e+05</td>\n",
       "      <td>2.297250e+05</td>\n",
       "      <td>1.647500e+07</td>\n",
       "      <td>1.000000</td>\n",
       "      <td>1.000000</td>\n",
       "      <td>1.000000</td>\n",
       "      <td>1.000000</td>\n",
       "      <td>1.000000</td>\n",
       "    </tr>\n",
       "    <tr>\n",
       "      <th>max</th>\n",
       "      <td>1.000000</td>\n",
       "      <td>3.000000</td>\n",
       "      <td>1.000000</td>\n",
       "      <td>8.100000e+06</td>\n",
       "      <td>4.166700e+06</td>\n",
       "      <td>7.000000e+07</td>\n",
       "      <td>1.000000</td>\n",
       "      <td>1.000000</td>\n",
       "      <td>1.000000</td>\n",
       "      <td>1.000000</td>\n",
       "      <td>1.000000</td>\n",
       "    </tr>\n",
       "  </tbody>\n",
       "</table>\n",
       "</div>"
      ],
      "text/plain": [
       "          Married  Dependents  Self_Employed  Applicant_Income  \\\n",
       "count  614.000000  599.000000     614.000000      6.140000e+02   \n",
       "mean     0.643322    0.762938       0.081433      5.403459e+05   \n",
       "std      0.489511    1.015216       0.423472      6.109042e+05   \n",
       "min     -1.000000    0.000000      -1.000000      1.500000e+04   \n",
       "25%      0.000000    0.000000       0.000000      2.877500e+05   \n",
       "50%      1.000000    0.000000       0.000000      3.812500e+05   \n",
       "75%      1.000000    2.000000       0.000000      5.795000e+05   \n",
       "max      1.000000    3.000000       1.000000      8.100000e+06   \n",
       "\n",
       "       Coapplicant_Income   Loan_Amount  Credit_History      Status  \\\n",
       "count        6.140000e+02  6.140000e+02      564.000000  614.000000   \n",
       "mean         1.621246e+05  1.414104e+07        0.842199    0.312704   \n",
       "std          2.926248e+05  8.815682e+06        0.364878    0.463973   \n",
       "min          0.000000e+00  0.000000e+00        0.000000    0.000000   \n",
       "25%          0.000000e+00  9.800000e+06        1.000000    0.000000   \n",
       "50%          1.188500e+05  1.250000e+07        1.000000    0.000000   \n",
       "75%          2.297250e+05  1.647500e+07        1.000000    1.000000   \n",
       "max          4.166700e+06  7.000000e+07        1.000000    1.000000   \n",
       "\n",
       "             Male    Graduate    Term_360  \n",
       "count  614.000000  614.000000  614.000000  \n",
       "mean     0.775244    0.781759    0.833876  \n",
       "std      0.465767    0.413389    0.372495  \n",
       "min     -1.000000    0.000000    0.000000  \n",
       "25%      1.000000    1.000000    1.000000  \n",
       "50%      1.000000    1.000000    1.000000  \n",
       "75%      1.000000    1.000000    1.000000  \n",
       "max      1.000000    1.000000    1.000000  "
      ]
     },
     "execution_count": 10,
     "metadata": {},
     "output_type": "execute_result"
    }
   ],
   "source": [
    "train_trat_v1.describe()"
   ]
  },
  {
   "cell_type": "markdown",
   "id": "09d3e4e8",
   "metadata": {},
   "source": [
    "# Tabelas de Frequência"
   ]
  },
  {
   "cell_type": "markdown",
   "id": "4a4beed1",
   "metadata": {},
   "source": [
    "- Variavel Alvo"
   ]
  },
  {
   "cell_type": "code",
   "execution_count": 11,
   "id": "220651e3",
   "metadata": {},
   "outputs": [
    {
     "data": {
      "text/plain": [
       "0    68.73\n",
       "1    31.27\n",
       "Name: Status, dtype: float64"
      ]
     },
     "execution_count": 11,
     "metadata": {},
     "output_type": "execute_result"
    }
   ],
   "source": [
    "total_counts = train_trat_v1['Status'].value_counts(normalize=True) * 100\n",
    "total_counts.round(2)"
   ]
  },
  {
   "cell_type": "markdown",
   "id": "5352d6c1",
   "metadata": {},
   "source": [
    "- Variavel Married : Frequencia"
   ]
  },
  {
   "cell_type": "code",
   "execution_count": 12,
   "id": "ecbecb0b",
   "metadata": {},
   "outputs": [
    {
     "data": {
      "text/plain": [
       " 1    64.82\n",
       " 0    34.69\n",
       "-1     0.49\n",
       "Name: Married, dtype: float64"
      ]
     },
     "execution_count": 12,
     "metadata": {},
     "output_type": "execute_result"
    }
   ],
   "source": [
    "# Distribuição percentual da coluna 'Married' para a base como um todo\n",
    "# normalize=True ==> % do Total || normalize=False ==> Contagem \n",
    "total_counts = train_trat_v1['Married'].value_counts(normalize=True) * 100\n",
    "total_counts.round(2)"
   ]
  },
  {
   "cell_type": "code",
   "execution_count": 13,
   "id": "ba90b87a",
   "metadata": {},
   "outputs": [
    {
     "data": {
      "text/plain": [
       "Status  Married\n",
       "0        1         67.54\n",
       "         0         31.75\n",
       "        -1          0.71\n",
       "1        1         58.85\n",
       "         0         41.15\n",
       "Name: Married, dtype: float64"
      ]
     },
     "execution_count": 13,
     "metadata": {},
     "output_type": "execute_result"
    }
   ],
   "source": [
    "# Distribuição percentual da coluna 'Married' para a variavel alvo \n",
    "group_counts = train_trat_v1.groupby('Status')['Married'].value_counts(normalize=True) * 100\n",
    "group_counts.round(2)"
   ]
  },
  {
   "cell_type": "markdown",
   "id": "c449f4e6",
   "metadata": {},
   "source": [
    "- Variavel Dependents : Frequencia"
   ]
  },
  {
   "cell_type": "code",
   "execution_count": 14,
   "id": "39206da2",
   "metadata": {},
   "outputs": [
    {
     "data": {
      "text/plain": [
       "0.0    57.60\n",
       "1.0    17.03\n",
       "2.0    16.86\n",
       "3.0     8.51\n",
       "Name: Dependents, dtype: float64"
      ]
     },
     "execution_count": 14,
     "metadata": {},
     "output_type": "execute_result"
    }
   ],
   "source": [
    "total_counts = train_trat_v1['Dependents'].value_counts(normalize=True) * 100\n",
    "total_counts.round(2)"
   ]
  },
  {
   "cell_type": "code",
   "execution_count": 15,
   "id": "5b3aa9ba",
   "metadata": {},
   "outputs": [
    {
     "data": {
      "text/plain": [
       "Status  Dependents\n",
       "0       0.0           57.63\n",
       "        2.0           18.40\n",
       "        1.0           15.98\n",
       "        3.0            7.99\n",
       "1       0.0           57.53\n",
       "        1.0           19.35\n",
       "        2.0           13.44\n",
       "        3.0            9.68\n",
       "Name: Dependents, dtype: float64"
      ]
     },
     "execution_count": 15,
     "metadata": {},
     "output_type": "execute_result"
    }
   ],
   "source": [
    "group_counts = train_trat_v1.groupby('Status')['Dependents'].value_counts(normalize=True) * 100\n",
    "group_counts.round(2)"
   ]
  },
  {
   "cell_type": "markdown",
   "id": "ab1beb6a",
   "metadata": {},
   "source": [
    "- Variavel Credit_History : Frequencia"
   ]
  },
  {
   "cell_type": "code",
   "execution_count": 16,
   "id": "cc90efa8",
   "metadata": {},
   "outputs": [
    {
     "data": {
      "text/plain": [
       "1.0    84.22\n",
       "0.0    15.78\n",
       "Name: Credit_History, dtype: float64"
      ]
     },
     "execution_count": 16,
     "metadata": {},
     "output_type": "execute_result"
    }
   ],
   "source": [
    "total_counts = train_trat_v1['Credit_History'].value_counts(normalize=True) * 100\n",
    "total_counts.round(2)"
   ]
  },
  {
   "cell_type": "code",
   "execution_count": 17,
   "id": "8202bea9",
   "metadata": {},
   "outputs": [
    {
     "data": {
      "text/plain": [
       "Status  Credit_History\n",
       "0       1.0               98.18\n",
       "        0.0                1.82\n",
       "1       1.0               54.19\n",
       "        0.0               45.81\n",
       "Name: Credit_History, dtype: float64"
      ]
     },
     "execution_count": 17,
     "metadata": {},
     "output_type": "execute_result"
    }
   ],
   "source": [
    "group_counts = train_trat_v1.groupby('Status')['Credit_History'].value_counts(normalize=True) * 100\n",
    "group_counts.round(2)"
   ]
  },
  {
   "cell_type": "markdown",
   "id": "ad204c12",
   "metadata": {},
   "source": [
    "- Variavel Male : Frequencia"
   ]
  },
  {
   "cell_type": "code",
   "execution_count": 18,
   "id": "bc38d31e",
   "metadata": {},
   "outputs": [
    {
     "data": {
      "text/plain": [
       " 1    79.64\n",
       " 0    18.24\n",
       "-1     2.12\n",
       "Name: Male, dtype: float64"
      ]
     },
     "execution_count": 18,
     "metadata": {},
     "output_type": "execute_result"
    }
   ],
   "source": [
    "total_counts = train_trat_v1['Male'].value_counts(normalize=True) * 100\n",
    "total_counts.round(2)"
   ]
  },
  {
   "cell_type": "code",
   "execution_count": 19,
   "id": "ed9be032",
   "metadata": {},
   "outputs": [
    {
     "data": {
      "text/plain": [
       "Status  Male\n",
       "0        1      80.33\n",
       "         0      17.77\n",
       "        -1       1.90\n",
       "1        1      78.12\n",
       "         0      19.27\n",
       "        -1       2.60\n",
       "Name: Male, dtype: float64"
      ]
     },
     "execution_count": 19,
     "metadata": {},
     "output_type": "execute_result"
    }
   ],
   "source": [
    "group_counts = train_trat_v1.groupby('Status')['Male'].value_counts(normalize=True) * 100\n",
    "group_counts.round(2)"
   ]
  },
  {
   "cell_type": "markdown",
   "id": "71ca8589",
   "metadata": {},
   "source": [
    "- Variavel Male : Graduate"
   ]
  },
  {
   "cell_type": "code",
   "execution_count": 20,
   "id": "36569148",
   "metadata": {},
   "outputs": [
    {
     "data": {
      "text/plain": [
       "1    78.18\n",
       "0    21.82\n",
       "Name: Graduate, dtype: float64"
      ]
     },
     "execution_count": 20,
     "metadata": {},
     "output_type": "execute_result"
    }
   ],
   "source": [
    "total_counts = train_trat_v1['Graduate'].value_counts(normalize=True) * 100\n",
    "total_counts.round(2)"
   ]
  },
  {
   "cell_type": "code",
   "execution_count": 21,
   "id": "2af19522",
   "metadata": {},
   "outputs": [
    {
     "data": {
      "text/plain": [
       "Status  Graduate\n",
       "0       1           80.57\n",
       "        0           19.43\n",
       "1       1           72.92\n",
       "        0           27.08\n",
       "Name: Graduate, dtype: float64"
      ]
     },
     "execution_count": 21,
     "metadata": {},
     "output_type": "execute_result"
    }
   ],
   "source": [
    "group_counts = train_trat_v1.groupby('Status')['Graduate'].value_counts(normalize=True) * 100\n",
    "group_counts.round(2)"
   ]
  },
  {
   "cell_type": "markdown",
   "id": "cdc4e3e8",
   "metadata": {},
   "source": [
    "- Variavel Term_360 : Frequencia"
   ]
  },
  {
   "cell_type": "code",
   "execution_count": 22,
   "id": "2f425e63",
   "metadata": {},
   "outputs": [
    {
     "data": {
      "text/plain": [
       "1    83.39\n",
       "0    16.61\n",
       "Name: Term_360, dtype: float64"
      ]
     },
     "execution_count": 22,
     "metadata": {},
     "output_type": "execute_result"
    }
   ],
   "source": [
    "total_counts = train_trat_v1['Term_360'].value_counts(normalize=True) * 100\n",
    "total_counts.round(2)"
   ]
  },
  {
   "cell_type": "code",
   "execution_count": 23,
   "id": "7ae52f68",
   "metadata": {},
   "outputs": [
    {
     "data": {
      "text/plain": [
       "Status  Term_360\n",
       "0       1           85.07\n",
       "        0           14.93\n",
       "1       1           79.69\n",
       "        0           20.31\n",
       "Name: Term_360, dtype: float64"
      ]
     },
     "execution_count": 23,
     "metadata": {},
     "output_type": "execute_result"
    }
   ],
   "source": [
    "group_counts = train_trat_v1.groupby('Status')['Term_360'].value_counts(normalize=True) * 100\n",
    "group_counts.round(2)"
   ]
  },
  {
   "cell_type": "markdown",
   "id": "e6506d24",
   "metadata": {},
   "source": [
    "# Curvas Distribuição"
   ]
  },
  {
   "cell_type": "code",
   "execution_count": 24,
   "id": "01c5d472",
   "metadata": {
    "scrolled": true
   },
   "outputs": [
    {
     "data": {
      "text/html": [
       "<div>\n",
       "<style scoped>\n",
       "    .dataframe tbody tr th:only-of-type {\n",
       "        vertical-align: middle;\n",
       "    }\n",
       "\n",
       "    .dataframe tbody tr th {\n",
       "        vertical-align: top;\n",
       "    }\n",
       "\n",
       "    .dataframe thead th {\n",
       "        text-align: right;\n",
       "    }\n",
       "</style>\n",
       "<table border=\"1\" class=\"dataframe\">\n",
       "  <thead>\n",
       "    <tr style=\"text-align: right;\">\n",
       "      <th></th>\n",
       "      <th>Married</th>\n",
       "      <th>Dependents</th>\n",
       "      <th>Self_Employed</th>\n",
       "      <th>Applicant_Income</th>\n",
       "      <th>Coapplicant_Income</th>\n",
       "      <th>Loan_Amount</th>\n",
       "      <th>Credit_History</th>\n",
       "      <th>Status</th>\n",
       "      <th>Male</th>\n",
       "      <th>Graduate</th>\n",
       "      <th>Term_360</th>\n",
       "    </tr>\n",
       "  </thead>\n",
       "  <tbody>\n",
       "    <tr>\n",
       "      <th>count</th>\n",
       "      <td>614.000000</td>\n",
       "      <td>599.000000</td>\n",
       "      <td>614.000000</td>\n",
       "      <td>6.140000e+02</td>\n",
       "      <td>6.140000e+02</td>\n",
       "      <td>6.140000e+02</td>\n",
       "      <td>564.000000</td>\n",
       "      <td>614.000000</td>\n",
       "      <td>614.000000</td>\n",
       "      <td>614.000000</td>\n",
       "      <td>614.000000</td>\n",
       "    </tr>\n",
       "    <tr>\n",
       "      <th>mean</th>\n",
       "      <td>0.643322</td>\n",
       "      <td>0.762938</td>\n",
       "      <td>0.081433</td>\n",
       "      <td>5.403459e+05</td>\n",
       "      <td>1.621246e+05</td>\n",
       "      <td>1.414104e+07</td>\n",
       "      <td>0.842199</td>\n",
       "      <td>0.312704</td>\n",
       "      <td>0.775244</td>\n",
       "      <td>0.781759</td>\n",
       "      <td>0.833876</td>\n",
       "    </tr>\n",
       "    <tr>\n",
       "      <th>std</th>\n",
       "      <td>0.489511</td>\n",
       "      <td>1.015216</td>\n",
       "      <td>0.423472</td>\n",
       "      <td>6.109042e+05</td>\n",
       "      <td>2.926248e+05</td>\n",
       "      <td>8.815682e+06</td>\n",
       "      <td>0.364878</td>\n",
       "      <td>0.463973</td>\n",
       "      <td>0.465767</td>\n",
       "      <td>0.413389</td>\n",
       "      <td>0.372495</td>\n",
       "    </tr>\n",
       "    <tr>\n",
       "      <th>min</th>\n",
       "      <td>-1.000000</td>\n",
       "      <td>0.000000</td>\n",
       "      <td>-1.000000</td>\n",
       "      <td>1.500000e+04</td>\n",
       "      <td>0.000000e+00</td>\n",
       "      <td>0.000000e+00</td>\n",
       "      <td>0.000000</td>\n",
       "      <td>0.000000</td>\n",
       "      <td>-1.000000</td>\n",
       "      <td>0.000000</td>\n",
       "      <td>0.000000</td>\n",
       "    </tr>\n",
       "    <tr>\n",
       "      <th>25%</th>\n",
       "      <td>0.000000</td>\n",
       "      <td>0.000000</td>\n",
       "      <td>0.000000</td>\n",
       "      <td>2.877500e+05</td>\n",
       "      <td>0.000000e+00</td>\n",
       "      <td>9.800000e+06</td>\n",
       "      <td>1.000000</td>\n",
       "      <td>0.000000</td>\n",
       "      <td>1.000000</td>\n",
       "      <td>1.000000</td>\n",
       "      <td>1.000000</td>\n",
       "    </tr>\n",
       "    <tr>\n",
       "      <th>50%</th>\n",
       "      <td>1.000000</td>\n",
       "      <td>0.000000</td>\n",
       "      <td>0.000000</td>\n",
       "      <td>3.812500e+05</td>\n",
       "      <td>1.188500e+05</td>\n",
       "      <td>1.250000e+07</td>\n",
       "      <td>1.000000</td>\n",
       "      <td>0.000000</td>\n",
       "      <td>1.000000</td>\n",
       "      <td>1.000000</td>\n",
       "      <td>1.000000</td>\n",
       "    </tr>\n",
       "    <tr>\n",
       "      <th>75%</th>\n",
       "      <td>1.000000</td>\n",
       "      <td>2.000000</td>\n",
       "      <td>0.000000</td>\n",
       "      <td>5.795000e+05</td>\n",
       "      <td>2.297250e+05</td>\n",
       "      <td>1.647500e+07</td>\n",
       "      <td>1.000000</td>\n",
       "      <td>1.000000</td>\n",
       "      <td>1.000000</td>\n",
       "      <td>1.000000</td>\n",
       "      <td>1.000000</td>\n",
       "    </tr>\n",
       "    <tr>\n",
       "      <th>max</th>\n",
       "      <td>1.000000</td>\n",
       "      <td>3.000000</td>\n",
       "      <td>1.000000</td>\n",
       "      <td>8.100000e+06</td>\n",
       "      <td>4.166700e+06</td>\n",
       "      <td>7.000000e+07</td>\n",
       "      <td>1.000000</td>\n",
       "      <td>1.000000</td>\n",
       "      <td>1.000000</td>\n",
       "      <td>1.000000</td>\n",
       "      <td>1.000000</td>\n",
       "    </tr>\n",
       "  </tbody>\n",
       "</table>\n",
       "</div>"
      ],
      "text/plain": [
       "          Married  Dependents  Self_Employed  Applicant_Income  \\\n",
       "count  614.000000  599.000000     614.000000      6.140000e+02   \n",
       "mean     0.643322    0.762938       0.081433      5.403459e+05   \n",
       "std      0.489511    1.015216       0.423472      6.109042e+05   \n",
       "min     -1.000000    0.000000      -1.000000      1.500000e+04   \n",
       "25%      0.000000    0.000000       0.000000      2.877500e+05   \n",
       "50%      1.000000    0.000000       0.000000      3.812500e+05   \n",
       "75%      1.000000    2.000000       0.000000      5.795000e+05   \n",
       "max      1.000000    3.000000       1.000000      8.100000e+06   \n",
       "\n",
       "       Coapplicant_Income   Loan_Amount  Credit_History      Status  \\\n",
       "count        6.140000e+02  6.140000e+02      564.000000  614.000000   \n",
       "mean         1.621246e+05  1.414104e+07        0.842199    0.312704   \n",
       "std          2.926248e+05  8.815682e+06        0.364878    0.463973   \n",
       "min          0.000000e+00  0.000000e+00        0.000000    0.000000   \n",
       "25%          0.000000e+00  9.800000e+06        1.000000    0.000000   \n",
       "50%          1.188500e+05  1.250000e+07        1.000000    0.000000   \n",
       "75%          2.297250e+05  1.647500e+07        1.000000    1.000000   \n",
       "max          4.166700e+06  7.000000e+07        1.000000    1.000000   \n",
       "\n",
       "             Male    Graduate    Term_360  \n",
       "count  614.000000  614.000000  614.000000  \n",
       "mean     0.775244    0.781759    0.833876  \n",
       "std      0.465767    0.413389    0.372495  \n",
       "min     -1.000000    0.000000    0.000000  \n",
       "25%      1.000000    1.000000    1.000000  \n",
       "50%      1.000000    1.000000    1.000000  \n",
       "75%      1.000000    1.000000    1.000000  \n",
       "max      1.000000    1.000000    1.000000  "
      ]
     },
     "execution_count": 24,
     "metadata": {},
     "output_type": "execute_result"
    }
   ],
   "source": [
    "train_trat_v1.describe()"
   ]
  },
  {
   "cell_type": "code",
   "execution_count": 25,
   "id": "0129923b",
   "metadata": {},
   "outputs": [
    {
     "name": "stdout",
     "output_type": "stream",
     "text": [
      "<class 'pandas.core.frame.DataFrame'>\n",
      "RangeIndex: 614 entries, 0 to 613\n",
      "Data columns (total 12 columns):\n",
      " #   Column              Non-Null Count  Dtype  \n",
      "---  ------              --------------  -----  \n",
      " 0   Married             614 non-null    int32  \n",
      " 1   Dependents          599 non-null    float64\n",
      " 2   Self_Employed       614 non-null    int32  \n",
      " 3   Applicant_Income    614 non-null    int64  \n",
      " 4   Coapplicant_Income  614 non-null    float64\n",
      " 5   Loan_Amount         614 non-null    int64  \n",
      " 6   Credit_History      564 non-null    float64\n",
      " 7   Area                614 non-null    object \n",
      " 8   Status              614 non-null    int32  \n",
      " 9   Male                614 non-null    int32  \n",
      " 10  Graduate            614 non-null    int32  \n",
      " 11  Term_360            614 non-null    int32  \n",
      "dtypes: float64(3), int32(6), int64(2), object(1)\n",
      "memory usage: 43.3+ KB\n"
     ]
    }
   ],
   "source": [
    "train_trat_v1.info()"
   ]
  },
  {
   "cell_type": "markdown",
   "id": "9c7c9b1b",
   "metadata": {},
   "source": [
    "- Variável : Applicant Income"
   ]
  },
  {
   "cell_type": "code",
   "execution_count": 26,
   "id": "10f1e3d6",
   "metadata": {},
   "outputs": [
    {
     "data": {
      "image/png": "[encoded data removed]",
      "text/plain": [
       "<Figure size 640x480 with 1 Axes>"
      ]
     },
     "metadata": {},
     "output_type": "display_data"
    }
   ],
   "source": [
    "# Plotar o histograma e o gráfico de densidade\n",
    "train_trat_v1['Applicant_Income'].plot.hist(density=True, bins=5, alpha=0.5)\n",
    "train_trat_v1['Applicant_Income'].plot.kde()\n",
    "\n",
    "mean = train_trat_v1['Applicant_Income'].mean()\n",
    "q5 = train_trat_v1['Applicant_Income'].quantile(0.05)\n",
    "q95 = train_trat_v1['Applicant_Income'].quantile(0.95)\n",
    "\n",
    "plt.axvline(mean, color='red', linestyle='--', label='Média')\n",
    "plt.axvline(q5, color='green', linestyle='--', label='P5')\n",
    "plt.axvline(q95, color='blue', linestyle='--', label='P95')\n",
    "\n",
    "plt.xlabel('Valor')\n",
    "plt.ylabel('Densidade')\n",
    "\n",
    "plt.show()"
   ]
  },
  {
   "cell_type": "code",
   "execution_count": 27,
   "id": "73a1a50b",
   "metadata": {},
   "outputs": [
    {
     "name": "stdout",
     "output_type": "stream",
     "text": [
      "6.54\n"
     ]
    }
   ],
   "source": [
    "# Calcular o coeficiente de assimetria de Fisher\n",
    "coef_assimetria = train_trat_v1['Applicant_Income'].skew().round(2)\n",
    "print(coef_assimetria)\n",
    "\n",
    "#Valor próximo a zero : indica uma distribuição aproximadamente simétrica.\n",
    "#Valor positivo : indica uma assimetria à direita, com a cauda longa à direita da média.\n",
    "#Valor negativo : indica uma assimetria à esquerda, com a cauda longa à esquerda da média.\n",
    "#Quanto maior o valor absoluto do coeficiente, maior é a magnitude da assimetria."
   ]
  },
  {
   "cell_type": "code",
   "execution_count": 28,
   "id": "34a74dcf",
   "metadata": {},
   "outputs": [
    {
     "name": "stdout",
     "output_type": "stream",
     "text": [
      "60.54\n"
     ]
    }
   ],
   "source": [
    "# Calcular o coeficiente de curtose de Fisher\n",
    "coef_curtose = train_trat_v1['Applicant_Income'].kurtosis().round(2)\n",
    "print(coef_curtose)\n",
    "\n",
    "#Valor próximo a zero : indica uma distribuição aproximadamente normal.\n",
    "#Valor positivo : indica uma distribuição mais concentrada, com caudas pesadas e picos mais altos.\n",
    "#Valor negativo : indica uma distribuição menos concentrada, com caudas leves e picos mais baixos.\n",
    "#Quanto maior o valor absoluto da curtose, mais diferente é a distribuição em relação à distribuição normal."
   ]
  },
  {
   "cell_type": "code",
   "execution_count": 29,
   "id": "f001cbb8",
   "metadata": {},
   "outputs": [
    {
     "data": {
      "image/png": "[encoded data removed]",
      "text/plain": [
       "<Figure size 600x300 with 1 Axes>"
      ]
     },
     "metadata": {},
     "output_type": "display_data"
    }
   ],
   "source": [
    "# Gráfico de boxplot para a base como um todo\n",
    "plt.figure(figsize=(6, 3))\n",
    "plt.boxplot(train_trat_v1['Applicant_Income'])\n",
    "plt.title('Boxplot - Applicant_Income')\n",
    "plt.xlabel('Base')\n",
    "plt.ylabel('Applicant_Income')\n",
    "\n",
    "# Configurar formato dos rótulos do eixo Y para a forma padrão\n",
    "plt.ticklabel_format(style='plain', axis='y')\n",
    "\n",
    "plt.show()"
   ]
  },
  {
   "cell_type": "code",
   "execution_count": 30,
   "id": "dd058297",
   "metadata": {},
   "outputs": [
    {
     "data": {
      "text/plain": [
       "<Figure size 800x600 with 0 Axes>"
      ]
     },
     "metadata": {},
     "output_type": "display_data"
    },
    {
     "data": {
      "image/png": "[encoded data removed]",
      "text/plain": [
       "<Figure size 640x480 with 1 Axes>"
      ]
     },
     "metadata": {},
     "output_type": "display_data"
    }
   ],
   "source": [
    "# Gráfico de boxplot para cada grupo separadamente\n",
    "plt.figure(figsize=(8, 6))\n",
    "train_trat_v1.boxplot(column='Applicant_Income', by='Status')\n",
    "plt.title('Boxplot - Variavel Alvo')\n",
    "plt.xlabel('Status')\n",
    "plt.ylabel('Applicant_Income')\n",
    "plt.suptitle('')  # Remover título automático\n",
    "\n",
    "# Configurar formato dos rótulos do eixo Y para a forma padrão\n",
    "plt.ticklabel_format(style='plain', axis='y')\n",
    "\n",
    "plt.show()"
   ]
  },
  {
   "cell_type": "markdown",
   "id": "2812f8e4",
   "metadata": {},
   "source": [
    "- Variável : Coapplicant Income"
   ]
  },
  {
   "cell_type": "code",
   "execution_count": 31,
   "id": "2e600223",
   "metadata": {},
   "outputs": [
    {
     "data": {
      "image/png": "[encoded data removed]",
      "text/plain": [
       "<Figure size 640x480 with 1 Axes>"
      ]
     },
     "metadata": {},
     "output_type": "display_data"
    }
   ],
   "source": [
    "# Plotar o histograma e o gráfico de densidade\n",
    "train_trat_v1['Coapplicant_Income'].plot.hist(density=True, bins=10, alpha=0.5)\n",
    "train_trat_v1['Coapplicant_Income'].plot.kde()\n",
    "\n",
    "mean = train_trat_v1['Coapplicant_Income'].mean()\n",
    "q5 = train_trat_v1['Coapplicant_Income'].quantile(0.05)\n",
    "q95 = train_trat_v1['Coapplicant_Income'].quantile(0.95)\n",
    "\n",
    "plt.axvline(mean, color='red', linestyle='--', label='Média')\n",
    "plt.axvline(q5, color='green', linestyle='--', label='P5')\n",
    "plt.axvline(q95, color='blue', linestyle='--', label='P95')\n",
    "\n",
    "plt.xlabel('Valor')\n",
    "plt.ylabel('Densidade')\n",
    "\n",
    "plt.show()"
   ]
  },
  {
   "cell_type": "code",
   "execution_count": 32,
   "id": "5f44b2e2",
   "metadata": {},
   "outputs": [
    {
     "name": "stdout",
     "output_type": "stream",
     "text": [
      "Assimetria :  7.49\n",
      "Curtose :  84.96\n"
     ]
    }
   ],
   "source": [
    "coef_assimetria = train_trat_v1['Coapplicant_Income'].skew().round(2)\n",
    "coef_curtose = train_trat_v1['Coapplicant_Income'].kurtosis().round(2)\n",
    "print(\"Assimetria : \", coef_assimetria)\n",
    "print(\"Curtose : \",coef_curtose)"
   ]
  },
  {
   "cell_type": "code",
   "execution_count": 33,
   "id": "ee7bd887",
   "metadata": {},
   "outputs": [
    {
     "data": {
      "image/png": "[encoded data removed]",
      "text/plain": [
       "<Figure size 600x300 with 1 Axes>"
      ]
     },
     "metadata": {},
     "output_type": "display_data"
    }
   ],
   "source": [
    "# Gráfico de boxplot para a base como um todo\n",
    "plt.figure(figsize=(6, 3))\n",
    "plt.boxplot(train_trat_v1['Coapplicant_Income'])\n",
    "plt.title('Boxplot - Coapplicant_Income')\n",
    "plt.xlabel('Base')\n",
    "plt.ylabel('Coapplicant_Income')\n",
    "\n",
    "# Configurar formato dos rótulos do eixo Y para a forma padrão\n",
    "plt.ticklabel_format(style='plain', axis='y')\n",
    "\n",
    "plt.show()"
   ]
  },
  {
   "cell_type": "code",
   "execution_count": 34,
   "id": "073fbcb3",
   "metadata": {},
   "outputs": [
    {
     "data": {
      "text/plain": [
       "<Figure size 800x600 with 0 Axes>"
      ]
     },
     "metadata": {},
     "output_type": "display_data"
    },
    {
     "data": {
      "image/png": "[encoded data removed]",
      "text/plain": [
       "<Figure size 640x480 with 1 Axes>"
      ]
     },
     "metadata": {},
     "output_type": "display_data"
    }
   ],
   "source": [
    "# Gráfico de boxplot para cada grupo separadamente\n",
    "plt.figure(figsize=(8, 6))\n",
    "train_trat_v1.boxplot(column='Coapplicant_Income', by='Status')\n",
    "plt.title('Boxplot - Variavel Alvo')\n",
    "plt.xlabel('Status')\n",
    "plt.ylabel('Coapplicant_Income')\n",
    "plt.suptitle('')  # Remover título automático\n",
    "\n",
    "# Configurar formato dos rótulos do eixo Y para a forma padrão\n",
    "plt.ticklabel_format(style='plain', axis='y')\n",
    "\n",
    "plt.show()"
   ]
  },
  {
   "cell_type": "markdown",
   "id": "8c39d8e1",
   "metadata": {},
   "source": [
    "- Variável : Loan_Amount"
   ]
  },
  {
   "cell_type": "code",
   "execution_count": 35,
   "id": "28c49f0b",
   "metadata": {},
   "outputs": [
    {
     "data": {
      "image/png": "[encoded data removed]",
      "text/plain": [
       "<Figure size 640x480 with 1 Axes>"
      ]
     },
     "metadata": {},
     "output_type": "display_data"
    }
   ],
   "source": [
    "# Plotar o histograma e o gráfico de densidade\n",
    "train_trat_v1['Loan_Amount'].plot.hist(density=True, bins=5, alpha=0.5)\n",
    "train_trat_v1['Loan_Amount'].plot.kde()\n",
    "\n",
    "mean = train_trat_v1['Loan_Amount'].mean()\n",
    "q5 = train_trat_v1['Loan_Amount'].quantile(0.05)\n",
    "q95 = train_trat_v1['Loan_Amount'].quantile(0.95)\n",
    "\n",
    "plt.axvline(mean, color='red', linestyle='--', label='Média')\n",
    "plt.axvline(q5, color='green', linestyle='--', label='P5')\n",
    "plt.axvline(q95, color='blue', linestyle='--', label='P95')\n",
    "\n",
    "plt.xlabel('Valor')\n",
    "plt.ylabel('Densidade')\n",
    "\n",
    "plt.show()"
   ]
  },
  {
   "cell_type": "code",
   "execution_count": 36,
   "id": "c908a7e2",
   "metadata": {},
   "outputs": [
    {
     "name": "stdout",
     "output_type": "stream",
     "text": [
      "Assimetria :  2.38\n",
      "Curtose :  9.26\n"
     ]
    }
   ],
   "source": [
    "coef_assimetria = train_trat_v1['Loan_Amount'].skew().round(2)\n",
    "coef_curtose = train_trat_v1['Loan_Amount'].kurtosis().round(2)\n",
    "print(\"Assimetria : \", coef_assimetria)\n",
    "print(\"Curtose : \",coef_curtose)"
   ]
  },
  {
   "cell_type": "code",
   "execution_count": 37,
   "id": "6c0b10dd",
   "metadata": {},
   "outputs": [
    {
     "data": {
      "image/png": "[encoded data removed]",
      "text/plain": [
       "<Figure size 600x300 with 1 Axes>"
      ]
     },
     "metadata": {},
     "output_type": "display_data"
    }
   ],
   "source": [
    "# Gráfico de boxplot para a base como um todo\n",
    "plt.figure(figsize=(6, 3))\n",
    "plt.boxplot(train_trat_v1['Loan_Amount'])\n",
    "plt.title('Boxplot - Loan_Amount')\n",
    "plt.xlabel('Base')\n",
    "plt.ylabel('Loan_Amount')\n",
    "\n",
    "# Configurar formato dos rótulos do eixo Y para a forma padrão\n",
    "plt.ticklabel_format(style='plain', axis='y')\n",
    "\n",
    "plt.show()"
   ]
  },
  {
   "cell_type": "code",
   "execution_count": 38,
   "id": "1451cb42",
   "metadata": {},
   "outputs": [
    {
     "data": {
      "text/plain": [
       "<Figure size 800x600 with 0 Axes>"
      ]
     },
     "metadata": {},
     "output_type": "display_data"
    },
    {
     "data": {
      "image/png": "[encoded data removed]",
      "text/plain": [
       "<Figure size 640x480 with 1 Axes>"
      ]
     },
     "metadata": {},
     "output_type": "display_data"
    }
   ],
   "source": [
    "# Gráfico de boxplot para cada grupo separadamente\n",
    "plt.figure(figsize=(8, 6))\n",
    "train_trat_v1.boxplot(column='Loan_Amount', by='Status')\n",
    "plt.title('Boxplot - Variavel Alvo')\n",
    "plt.xlabel('Status')\n",
    "plt.ylabel('Loan_Amount')\n",
    "plt.suptitle('')  # Remover título automático\n",
    "\n",
    "# Configurar formato dos rótulos do eixo Y para a forma padrão\n",
    "plt.ticklabel_format(style='plain', axis='y')\n",
    "\n",
    "plt.show()"
   ]
  },
  {
   "cell_type": "markdown",
   "id": "7b2ff701",
   "metadata": {},
   "source": [
    "# Associação Qui-Quadrado + Magnitude : Married x variavel alvo\n",
    "- Pergunta : Há associação estatística entre as variáveis ?"
   ]
  },
  {
   "cell_type": "markdown",
   "id": "9b8aebc9",
   "metadata": {},
   "source": [
    "     - H0: as variáveis se associam de forma aleatória.\n",
    "     - H1: a associação entre as variáveis não se dá de forma aleatória."
   ]
  },
  {
   "cell_type": "code",
   "execution_count": 39,
   "id": "2d132c81",
   "metadata": {},
   "outputs": [
    {
     "data": {
      "text/html": [
       "<div>\n",
       "<style scoped>\n",
       "    .dataframe tbody tr th:only-of-type {\n",
       "        vertical-align: middle;\n",
       "    }\n",
       "\n",
       "    .dataframe tbody tr th {\n",
       "        vertical-align: top;\n",
       "    }\n",
       "\n",
       "    .dataframe thead th {\n",
       "        text-align: right;\n",
       "    }\n",
       "</style>\n",
       "<table border=\"1\" class=\"dataframe\">\n",
       "  <thead>\n",
       "    <tr style=\"text-align: right;\">\n",
       "      <th>Status</th>\n",
       "      <th>0</th>\n",
       "      <th>1</th>\n",
       "    </tr>\n",
       "    <tr>\n",
       "      <th>Married</th>\n",
       "      <th></th>\n",
       "      <th></th>\n",
       "    </tr>\n",
       "  </thead>\n",
       "  <tbody>\n",
       "    <tr>\n",
       "      <th>-1</th>\n",
       "      <td>3</td>\n",
       "      <td>0</td>\n",
       "    </tr>\n",
       "    <tr>\n",
       "      <th>0</th>\n",
       "      <td>134</td>\n",
       "      <td>79</td>\n",
       "    </tr>\n",
       "    <tr>\n",
       "      <th>1</th>\n",
       "      <td>285</td>\n",
       "      <td>113</td>\n",
       "    </tr>\n",
       "  </tbody>\n",
       "</table>\n",
       "</div>"
      ],
      "text/plain": [
       "Status     0    1\n",
       "Married          \n",
       "-1         3    0\n",
       " 0       134   79\n",
       " 1       285  113"
      ]
     },
     "execution_count": 39,
     "metadata": {},
     "output_type": "execute_result"
    }
   ],
   "source": [
    "contingency_married = pd.crosstab(train_trat_v1['Married'], train_trat_v1['Status'])\n",
    "contingency_married"
   ]
  },
  {
   "cell_type": "code",
   "execution_count": 40,
   "id": "56c31e67",
   "metadata": {},
   "outputs": [
    {
     "name": "stdout",
     "output_type": "stream",
     "text": [
      "Estatística Qui-Quadrado: 6.25486591304784\n",
      "Valor P: 0.04383016690616309\n"
     ]
    }
   ],
   "source": [
    "# Realizar o teste qui-quadrado\n",
    "chi2, p_value, _, _ = chi2_contingency(contingency_married)\n",
    "\n",
    "print(\"Estatística Qui-Quadrado:\", chi2)\n",
    "print(\"Valor P:\", p_value)\n",
    "\n",
    "#P-valor = 0.4, ou seja, dado o nível de significância de 0.5, há evidências estatísticas para rejeitar a hipótese nula de que as duas variáveis são independentes. "
   ]
  },
  {
   "cell_type": "code",
   "execution_count": 41,
   "id": "09ae4956",
   "metadata": {},
   "outputs": [
    {
     "name": "stdout",
     "output_type": "stream",
     "text": [
      "Coeficiente de contingência (Cramér's V): 0.101\n"
     ]
    }
   ],
   "source": [
    "# Calcular o coeficiente de contingência (Cramér's V)\n",
    "\n",
    "n = contingency_married.sum().sum()\n",
    "#calcular a soma total dos valores em uma tabela de contingência\n",
    "\n",
    "v = (chi2 / n) ** 0.5\n",
    "# Divide o valor do qui-quadrado (chi2) pelo valor de n, que representa a soma total dos valores na tabela de contingência. O resultado dessa divisão é a estatística do qui-quadrado padronizada.\n",
    "# O operador ** é usado para elevar o resultado dessa divisão a 0.5. Essa etapa é realizada para calcular a raiz quadrada do valor.\n",
    "# O resultado dessa operação é atribuído à variável v, que representa o coeficiente de contingência (Cramér's V).\n",
    "\n",
    "\n",
    "print('Coeficiente de contingência (Cramér\\'s V):', v.round(3))\n",
    "#Quanto mais próximo o valor de V estiver de 0, menor será a associação entre as variáveis, e quanto mais próximo de 1, maior será a associação."
   ]
  },
  {
   "cell_type": "markdown",
   "id": "db0bb032",
   "metadata": {},
   "source": [
    "- Resultado : Há associação siginificativa sim, porém, com baixa magnitude."
   ]
  },
  {
   "cell_type": "markdown",
   "id": "8f4b8f2b",
   "metadata": {},
   "source": [
    "# Associação Qui-Quadrado + Magnitude : Dependents x variavel alvo"
   ]
  },
  {
   "cell_type": "code",
   "execution_count": 42,
   "id": "52c8bd1f",
   "metadata": {},
   "outputs": [
    {
     "name": "stdout",
     "output_type": "stream",
     "text": [
      "Estatística Qui-Quadrado: 3.158\n",
      "Valor P: 0.368\n"
     ]
    }
   ],
   "source": [
    "contingency = pd.crosstab(train_trat_v1['Dependents'], train_trat_v1['Status'])\n",
    "chi2, p_value, _, _ = chi2_contingency(contingency)\n",
    "\n",
    "print(\"Estatística Qui-Quadrado:\", chi2.round(3))\n",
    "print(\"Valor P:\", p_value.round(3))"
   ]
  },
  {
   "cell_type": "code",
   "execution_count": 43,
   "id": "9421fa11",
   "metadata": {},
   "outputs": [
    {
     "name": "stdout",
     "output_type": "stream",
     "text": [
      "Índice de Tschuprow: 0.367\n"
     ]
    }
   ],
   "source": [
    "# Calcule o Índice de Tschuprow - Ele é usual para as qualitivas ordinarias, com ele podemos ver associação negativa ou positiva, assim como a correlação, que varia entre -1 e 1.\n",
    "tschuprow = (contingency.values.max() - contingency.values.min()) / contingency.sum().sum()\n",
    "print(\"Índice de Tschuprow:\", tschuprow.round(3))"
   ]
  },
  {
   "cell_type": "code",
   "execution_count": 44,
   "id": "1ed4b548",
   "metadata": {},
   "outputs": [
    {
     "data": {
      "text/plain": [
       "numpy.float64"
      ]
     },
     "execution_count": 44,
     "metadata": {},
     "output_type": "execute_result"
    }
   ],
   "source": [
    "type(tschuprow)"
   ]
  },
  {
   "cell_type": "markdown",
   "id": "9781be36",
   "metadata": {},
   "source": [
    "- Resultado : Não há associação siginificativa entre essas variáveis (P-valor = 0.3)"
   ]
  },
  {
   "cell_type": "markdown",
   "id": "beb0ab63",
   "metadata": {},
   "source": [
    "# Associação Qui-Quadrado + Magnitude : Credit_History x variavel alvo"
   ]
  },
  {
   "cell_type": "code",
   "execution_count": 45,
   "id": "faba5d1a",
   "metadata": {},
   "outputs": [
    {
     "name": "stdout",
     "output_type": "stream",
     "text": [
      "Estatística Qui-Quadrado: 174.637\n",
      "Valor P: 7.184759548750746e-40  -> round :  0.0\n"
     ]
    }
   ],
   "source": [
    "contingency = pd.crosstab(train_trat_v1['Credit_History'], train_trat_v1['Status'])\n",
    "chi2, p_value, _, _ = chi2_contingency(contingency)\n",
    "\n",
    "print(\"Estatística Qui-Quadrado:\", chi2.round(3))\n",
    "print(\"Valor P:\", p_value, \" -> round : \", p_value.round())"
   ]
  },
  {
   "cell_type": "code",
   "execution_count": 46,
   "id": "b4ff557e",
   "metadata": {},
   "outputs": [
    {
     "name": "stdout",
     "output_type": "stream",
     "text": [
      "Coeficiente Phi: 0.556\n"
     ]
    }
   ],
   "source": [
    "# Coeficiente Phi: É uma medida de associação que varia de -1 a 1. É uma versão padronizada do coeficiente de contingência e é usado especificamente para tabelas de contingência 2x2.\n",
    "phi = math.sqrt(chi2 / contingency.sum().sum())\n",
    "print(\"Coeficiente Phi:\", round(phi,3))"
   ]
  },
  {
   "cell_type": "markdown",
   "id": "cbf4cf33",
   "metadata": {},
   "source": [
    "- Resultado : Pode-se concluir que existe uma grande associação estatisticamente significativa, com magnitude moderada positiva entre as variáveis analisadas."
   ]
  },
  {
   "cell_type": "markdown",
   "id": "701557e8",
   "metadata": {},
   "source": [
    "# Associação Qui-Quadrado + Magnitude : Graduate x variavel alvo"
   ]
  },
  {
   "cell_type": "code",
   "execution_count": 47,
   "id": "84a94f09",
   "metadata": {},
   "outputs": [
    {
     "name": "stdout",
     "output_type": "stream",
     "text": [
      "Estatística Qui-Quadrado: 4.091\n",
      "Valor P: 0.04309962129357355  -> round :  0.0431\n"
     ]
    }
   ],
   "source": [
    "contingency = pd.crosstab(train_trat_v1['Graduate'], train_trat_v1['Status'])\n",
    "chi2, p_value, _, _ = chi2_contingency(contingency)\n",
    "\n",
    "print(\"Estatística Qui-Quadrado:\", chi2.round(3))\n",
    "print(\"Valor P:\", p_value, \" -> round : \", p_value.round(4))"
   ]
  },
  {
   "cell_type": "code",
   "execution_count": 48,
   "id": "19d0c616",
   "metadata": {},
   "outputs": [
    {
     "name": "stdout",
     "output_type": "stream",
     "text": [
      "Coeficiente Phi: 0.082\n"
     ]
    }
   ],
   "source": [
    "# Coeficiente Phi: É uma medida de associação que varia de -1 a 1. É uma versão padronizada do coeficiente de contingência e é usado especificamente para tabelas de contingência 2x2.\n",
    "phi = math.sqrt(chi2 / contingency.sum().sum())\n",
    "print(\"Coeficiente Phi:\", round(phi,3))"
   ]
  },
  {
   "cell_type": "markdown",
   "id": "9d1d9ad5",
   "metadata": {},
   "source": [
    "- Resultado : Podemos dizer que há uma associação estatisticamente significativa entre as variáveis, mas essa associação é muito fraca."
   ]
  },
  {
   "cell_type": "code",
   "execution_count": null,
   "id": "6c29370c",
   "metadata": {},
   "outputs": [],
   "source": []
  },
  {
   "cell_type": "code",
   "execution_count": null,
   "id": "5a5ecf7a",
   "metadata": {},
   "outputs": [],
   "source": []
  },
  {
   "cell_type": "code",
   "execution_count": null,
   "id": "ba16c3c0",
   "metadata": {},
   "outputs": [],
   "source": []
  },
  {
   "cell_type": "code",
   "execution_count": null,
   "id": "956b1a5d",
   "metadata": {},
   "outputs": [],
   "source": []
  },
  {
   "cell_type": "code",
   "execution_count": null,
   "id": "2193d77d",
   "metadata": {},
   "outputs": [],
   "source": []
  },
  {
   "cell_type": "code",
   "execution_count": null,
   "id": "d14356af",
   "metadata": {},
   "outputs": [],
   "source": []
  }
 ],
 "metadata": {
  "kernelspec": {
   "display_name": "Python 3 (ipykernel)",
   "language": "python",
   "name": "python3"
  },
  "language_info": {
   "codemirror_mode": {
    "name": "ipython",
    "version": 3
   },
   "file_extension": ".py",
   "mimetype": "text/x-python",
   "name": "python",
   "nbconvert_exporter": "python",
   "pygments_lexer": "ipython3",
   "version": "3.9.13"
  }
 },
 "nbformat": 4,
 "nbformat_minor": 5
}
